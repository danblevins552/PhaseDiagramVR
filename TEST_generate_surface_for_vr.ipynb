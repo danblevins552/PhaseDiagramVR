{
 "cells": [
  {
   "cell_type": "code",
   "execution_count": null,
   "metadata": {},
   "outputs": [],
   "source": [
    "import plotly.graph_objects as go\n",
    "import numpy as np\n",
    "\n",
    "# Generate some random 3D data\n",
    "x = np.random.uniform(-10, 10, 100)\n",
    "y = np.random.uniform(-10, 10, 100)\n",
    "z = np.random.uniform(-10, 10, 100)\n",
    "\n",
    "# Create a 3D scatter plot\n",
    "fig = go.Figure(\n",
    "    data=[\n",
    "        go.Scatter3d(\n",
    "            x=x,\n",
    "            y=y,\n",
    "            z=z,\n",
    "            mode=\"markers\",\n",
    "            marker=dict(size=5, color=z, colorscale=\"Viridis\"),\n",
    "        )\n",
    "    ]\n",
    ")\n",
    "\n",
    "# Show plot\n",
    "fig.show()"
   ]
  },
  {
   "cell_type": "code",
   "execution_count": null,
   "metadata": {},
   "outputs": [],
   "source": [
    "import trimesh\n",
    "import numpy as np\n",
    "\n",
    "# Generate vertices from the Plotly data\n",
    "vertices = np.column_stack((x, y, z))\n",
    "\n",
    "# Create a point cloud (as a 3D mesh)\n",
    "# Here we create small spheres to represent the points\n",
    "spheres = [trimesh.creation.icosphere(radius=0.2, center=point) for point in vertices]\n",
    "\n",
    "# Combine all spheres into one mesh\n",
    "combined = trimesh.util.concatenate(spheres)\n",
    "\n",
    "# Export as GLB\n",
    "combined.export(\"static/scatter3d.glb\")"
   ]
  },
  {
   "cell_type": "code",
   "execution_count": null,
   "metadata": {},
   "outputs": [],
   "source": []
  }
 ],
 "metadata": {
  "kernelspec": {
   "display_name": "phaseDiagramVr",
   "language": "python",
   "name": "python3"
  },
  "language_info": {
   "codemirror_mode": {
    "name": "ipython",
    "version": 3
   },
   "file_extension": ".py",
   "mimetype": "text/x-python",
   "name": "python",
   "nbconvert_exporter": "python",
   "pygments_lexer": "ipython3",
   "version": "3.12.0"
  }
 },
 "nbformat": 4,
 "nbformat_minor": 2
}
